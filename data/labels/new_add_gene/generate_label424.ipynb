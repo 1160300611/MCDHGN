{
 "cells": [
  {
   "cell_type": "code",
   "execution_count": 1,
   "id": "b6091de6",
   "metadata": {},
   "outputs": [],
   "source": [
    "import csv\n",
    "import numpy\n",
    "import pickle"
   ]
  },
  {
   "cell_type": "code",
   "execution_count": 7,
   "id": "80783d14",
   "metadata": {},
   "outputs": [],
   "source": [
    "all_possible_name = set()\n",
    "with open('./cancermine_unfiltered.tsv',newline='')as f:\n",
    "    reader = csv.reader(f,delimiter= '\\t')\n",
    "    next(reader)\n",
    "    for row in reader:\n",
    "        all_possible_name.add(row[18])"
   ]
  },
  {
   "cell_type": "code",
   "execution_count": 65,
   "id": "1531d864",
   "metadata": {},
   "outputs": [],
   "source": [
    "kcg = set()\n",
    "with open('../NCG7.0/NCG_cancerdrivers.tsv',newline='')as f:\n",
    "    reader = csv.reader(f,delimiter= '\\t')\n",
    "    next(reader)\n",
    "    \n",
    "    for row in reader:\n",
    "        genename = row[1]\n",
    "        if genename in set(genes2id.keys()):\n",
    "            kcg.add(genes2id[genename])\n"
   ]
  },
  {
   "cell_type": "code",
   "execution_count": 68,
   "id": "e735e0dc",
   "metadata": {},
   "outputs": [],
   "source": [
    "with open('../../label/ncg.pkl','wb')as f:\n",
    "    pickle.dump(kcg,f)"
   ]
  },
  {
   "cell_type": "code",
   "execution_count": 8,
   "id": "cea1940f",
   "metadata": {},
   "outputs": [
    {
     "name": "stdout",
     "output_type": "stream",
     "text": [
      "24049\n"
     ]
    }
   ],
   "source": [
    "print(len(all_possible_name))"
   ]
  },
  {
   "cell_type": "code",
   "execution_count": 9,
   "id": "6ae814d0",
   "metadata": {},
   "outputs": [],
   "source": [
    "with open('../../step1/gene_toids.pkl','rb')as f:\n",
    "    genes2id = pickle.load(f)"
   ]
  },
  {
   "cell_type": "code",
   "execution_count": 11,
   "id": "6a484761",
   "metadata": {},
   "outputs": [],
   "source": [
    "mydata = set(genes2id.keys())"
   ]
  },
  {
   "cell_type": "code",
   "execution_count": 12,
   "id": "00748ac8",
   "metadata": {},
   "outputs": [],
   "source": [
    "now_neg = mydata-all_possible_name"
   ]
  },
  {
   "cell_type": "code",
   "execution_count": 13,
   "id": "e6b3fa35",
   "metadata": {},
   "outputs": [
    {
     "name": "stdout",
     "output_type": "stream",
     "text": [
      "6713\n"
     ]
    }
   ],
   "source": [
    "print(len(now_neg))"
   ]
  },
  {
   "cell_type": "code",
   "execution_count": 42,
   "id": "b23c8bc4",
   "metadata": {
    "scrolled": true
   },
   "outputs": [
    {
     "name": "stdout",
     "output_type": "stream",
     "text": [
      "4845\n"
     ]
    }
   ],
   "source": [
    "import json \n",
    "with open('../cancerneighbo.json','r')as f:\n",
    "    data1 = json.load(f)\n",
    "cancer_neighbor = set()\n",
    "for key,value in data1.items():\n",
    "    tgeneset = value['geneSymbols']\n",
    "    cancer_neighbor = cancer_neighbor.union(set(tgeneset))\n",
    "now_neg1 = now_neg - cancer_neighbor\n",
    "print(len(now_neg1))"
   ]
  },
  {
   "cell_type": "code",
   "execution_count": 70,
   "id": "0fb5181e",
   "metadata": {},
   "outputs": [
    {
     "name": "stdout",
     "output_type": "stream",
     "text": [
      "4845 4845\n"
     ]
    }
   ],
   "source": [
    "print(len(now_neg1),len(now_neg425))"
   ]
  },
  {
   "cell_type": "code",
   "execution_count": 54,
   "id": "22b7bd43",
   "metadata": {},
   "outputs": [
    {
     "name": "stdout",
     "output_type": "stream",
     "text": [
      "1285\n"
     ]
    }
   ],
   "source": [
    "with open('../ctm.json','r')as f :\n",
    "    data2 = json.load(f)\n",
    "cancer_cm = set()\n",
    "for key,value in data2.items():\n",
    "    tgeneset = value['geneSymbols']\n",
    "    cancer_cm = cancer_pathway.union(set(tgeneset))\n",
    "now_neg2= now_neg-cancer_cm\n",
    "print(len(now_neg2))"
   ]
  },
  {
   "cell_type": "code",
   "execution_count": 72,
   "id": "8e153a51",
   "metadata": {},
   "outputs": [
    {
     "name": "stdout",
     "output_type": "stream",
     "text": [
      "1440\n"
     ]
    }
   ],
   "source": [
    "print(len(set(now_pos)-now_neg425))"
   ]
  },
  {
   "cell_type": "code",
   "execution_count": 78,
   "id": "c2c54f38",
   "metadata": {},
   "outputs": [],
   "source": [
    "now_neg426 = now_neg425-kcg\n",
    "ncg_426 = kcg-now_neg425\n",
    "with open('../../label/now_pos426.pkl','wb')as f:\n",
    "    pickle.dump(ncg_426,f)\n",
    "with open('../../label/now_neg426.pkl','wb')as f:\n",
    "    pickle.dump(now_neg426,f)"
   ]
  },
  {
   "cell_type": "code",
   "execution_count": 80,
   "id": "6f87dd05",
   "metadata": {},
   "outputs": [
    {
     "name": "stdout",
     "output_type": "stream",
     "text": [
      "3072\n"
     ]
    }
   ],
   "source": [
    "print(len(now_neg424))"
   ]
  },
  {
   "cell_type": "code",
   "execution_count": 86,
   "id": "de483f83",
   "metadata": {},
   "outputs": [
    {
     "name": "stdout",
     "output_type": "stream",
     "text": [
      "4615\n"
     ]
    }
   ],
   "source": [
    "print(len(now_neg424|now_neg426))"
   ]
  },
  {
   "cell_type": "code",
   "execution_count": 87,
   "id": "0314c8d5",
   "metadata": {},
   "outputs": [],
   "source": [
    "now_neg427 = now_neg424 | now_neg426"
   ]
  },
  {
   "cell_type": "code",
   "execution_count": 92,
   "id": "8f7cb028",
   "metadata": {},
   "outputs": [
    {
     "name": "stdout",
     "output_type": "stream",
     "text": [
      "2601 375\n"
     ]
    }
   ],
   "source": [
    "print(len(kcg),len(kcg & now_neg427))"
   ]
  },
  {
   "cell_type": "code",
   "execution_count": 93,
   "id": "290f666e",
   "metadata": {},
   "outputs": [
    {
     "name": "stdout",
     "output_type": "stream",
     "text": [
      "2226\n"
     ]
    }
   ],
   "source": [
    "print(len(kcg-now_neg427))"
   ]
  },
  {
   "cell_type": "code",
   "execution_count": 95,
   "id": "0a051cbd",
   "metadata": {},
   "outputs": [],
   "source": [
    "now_pos427 = kcg-now_neg427\n",
    "now_neg4271 = now_neg427-kcg\n",
    "with open('../../label/now_pos427.pkl','wb')as f:\n",
    "    pickle.dump(now_pos427,f)\n",
    "with open('../../label/now_neg427.pkl','wb')as f:\n",
    "    pickle.dump(now_neg4271,f)"
   ]
  },
  {
   "cell_type": "code",
   "execution_count": 85,
   "id": "f851fee7",
   "metadata": {},
   "outputs": [
    {
     "name": "stdout",
     "output_type": "stream",
     "text": [
      "3072\n"
     ]
    }
   ],
   "source": [
    "print(len(now_neg424))"
   ]
  },
  {
   "cell_type": "code",
   "execution_count": 73,
   "id": "9f3500d6",
   "metadata": {},
   "outputs": [
    {
     "name": "stdout",
     "output_type": "stream",
     "text": [
      "1440\n"
     ]
    }
   ],
   "source": [
    "print(len(now_pos425))"
   ]
  },
  {
   "cell_type": "code",
   "execution_count": 75,
   "id": "e5886072",
   "metadata": {},
   "outputs": [
    {
     "name": "stdout",
     "output_type": "stream",
     "text": [
      "1996\n"
     ]
    }
   ],
   "source": [
    "print(len(kcg-now_neg425))"
   ]
  },
  {
   "cell_type": "code",
   "execution_count": 57,
   "id": "a41be255",
   "metadata": {},
   "outputs": [
    {
     "name": "stdout",
     "output_type": "stream",
     "text": [
      "1611\n"
     ]
    }
   ],
   "source": [
    "now_neg_cmfree = mydata-cancer_cm\n",
    "neg_cmfree = set()\n",
    "for iname in now_neg_cmfree:\n",
    "    neg_cmfree.add(genes2id[iname])\n",
    "now_pos_cmfree = set(now_pos)-neg_cmfree\n",
    "print(len(now_pos_cmfree))"
   ]
  },
  {
   "cell_type": "code",
   "execution_count": 59,
   "id": "eaeba32e",
   "metadata": {},
   "outputs": [],
   "source": [
    "with open('../../label/now_pos_cmfree.pkl','wb')as f:\n",
    "    pickle.dump(now_pos_cmfree,f)\n",
    "with open('../../label/now_neg_cmfree.pkl','wb')as f:\n",
    "    pickle.dump(neg_cmfree,f)"
   ]
  },
  {
   "cell_type": "code",
   "execution_count": 14,
   "id": "2eb3b2f3",
   "metadata": {},
   "outputs": [],
   "source": [
    "import json\n",
    "with open('../../MsigDB/c4.all.v2023.1.Hs.json','r')as f:\n",
    "    data =json.load(f)"
   ]
  },
  {
   "cell_type": "code",
   "execution_count": 20,
   "id": "2fcfac16",
   "metadata": {},
   "outputs": [],
   "source": [
    "all_ctm_genes = set()\n",
    "for key,value in data.items():\n",
    "    \n",
    "    tgeneset = value['geneSymbols']\n",
    "    all_ctm_genes = all_ctm_genes.union(set(tgeneset))"
   ]
  },
  {
   "cell_type": "code",
   "execution_count": 21,
   "id": "d249ee79",
   "metadata": {},
   "outputs": [
    {
     "name": "stdout",
     "output_type": "stream",
     "text": [
      "10013\n"
     ]
    }
   ],
   "source": [
    "print(len(all_ctm_genes))"
   ]
  },
  {
   "cell_type": "code",
   "execution_count": 22,
   "id": "c7c0b5c2",
   "metadata": {},
   "outputs": [],
   "source": [
    "now_neg1 = now_neg - all_ctm_genes"
   ]
  },
  {
   "cell_type": "code",
   "execution_count": 24,
   "id": "97132b21",
   "metadata": {},
   "outputs": [],
   "source": [
    "now_neg424 = set()\n",
    "for iname in now_neg1:\n",
    "    now_neg424.add(genes2id[iname])"
   ]
  },
  {
   "cell_type": "code",
   "execution_count": 60,
   "id": "9f08a2d0",
   "metadata": {},
   "outputs": [
    {
     "name": "stdout",
     "output_type": "stream",
     "text": [
      "1755\n"
     ]
    }
   ],
   "source": [
    "print(len(now_pos))"
   ]
  },
  {
   "cell_type": "code",
   "execution_count": 27,
   "id": "e1ea75c8",
   "metadata": {},
   "outputs": [],
   "source": [
    "with open('../../label/now_pos.pkl','rb')as f:\n",
    "    now_pos = pickle.load(f)"
   ]
  },
  {
   "cell_type": "code",
   "execution_count": 30,
   "id": "173799e9",
   "metadata": {},
   "outputs": [],
   "source": [
    "with open('../../label/now_neg.pkl','rb')as f:\n",
    "    now_neg_old = pickle.load(f)"
   ]
  },
  {
   "cell_type": "code",
   "execution_count": 31,
   "id": "083cfb38",
   "metadata": {},
   "outputs": [
    {
     "name": "stdout",
     "output_type": "stream",
     "text": [
      "0\n"
     ]
    }
   ],
   "source": [
    "print(len(set(now_pos) & set(now_neg_old)))"
   ]
  },
  {
   "cell_type": "code",
   "execution_count": 32,
   "id": "066bf1bd",
   "metadata": {},
   "outputs": [],
   "source": [
    "now_pos424 = set(now_pos)-now_neg424"
   ]
  },
  {
   "cell_type": "code",
   "execution_count": 34,
   "id": "35d69677",
   "metadata": {},
   "outputs": [
    {
     "name": "stdout",
     "output_type": "stream",
     "text": [
      "1755\n"
     ]
    }
   ],
   "source": [
    "print(len(now_pos))"
   ]
  },
  {
   "cell_type": "code",
   "execution_count": 33,
   "id": "1277f88b",
   "metadata": {},
   "outputs": [
    {
     "name": "stdout",
     "output_type": "stream",
     "text": [
      "1562\n"
     ]
    }
   ],
   "source": [
    "print(len(now_pos424))"
   ]
  },
  {
   "cell_type": "code",
   "execution_count": 35,
   "id": "2494b507",
   "metadata": {},
   "outputs": [],
   "source": [
    "with open('../../label/now_pos424.pkl','wb')as f:\n",
    "    pickle.dump(now_pos424,f)\n",
    "with open('../../label/now_neg424.pkl','wb')as f:\n",
    "    pickle.dump(now_neg424,f)"
   ]
  },
  {
   "cell_type": "code",
   "execution_count": 37,
   "id": "998a5c6d",
   "metadata": {},
   "outputs": [],
   "source": [
    "with open('../../Network/Hetero/ids_to_name/Gene.pkl','rb')as f:\n",
    "    ids2gene = pickle.load(f)"
   ]
  },
  {
   "cell_type": "code",
   "execution_count": 38,
   "id": "ab7d25ce",
   "metadata": {},
   "outputs": [],
   "source": [
    "gene_pos_name = set()\n",
    "gene_neg_name = set()\n",
    "for id_ in now_pos424:\n",
    "    gene_pos_name.add(ids2gene[id_])\n",
    "for id_ in now_neg424:\n",
    "    gene_neg_name.add(ids2gene[id_])"
   ]
  },
  {
   "cell_type": "code",
   "execution_count": 40,
   "id": "a113e86f",
   "metadata": {},
   "outputs": [
    {
     "name": "stdout",
     "output_type": "stream",
     "text": [
      "3072\n"
     ]
    }
   ],
   "source": [
    "print(len(gene_neg_name))"
   ]
  },
  {
   "cell_type": "code",
   "execution_count": 41,
   "id": "8ac2ee5b",
   "metadata": {},
   "outputs": [],
   "source": [
    "with open('../../label/pos_name424.pkl','wb')as f:\n",
    "    pickle.dump(gene_pos_name,f)\n",
    "with open('../../label/neg_name424.pkl','wb')as f:\n",
    "    pickle.dump(gene_neg_name,f)"
   ]
  },
  {
   "cell_type": "code",
   "execution_count": 96,
   "id": "3da1892b",
   "metadata": {},
   "outputs": [
    {
     "name": "stdout",
     "output_type": "stream",
     "text": [
      "2226 4615\n"
     ]
    }
   ],
   "source": [
    "print(len(now_pos427),len(now_neg427))"
   ]
  },
  {
   "cell_type": "code",
   "execution_count": 97,
   "id": "95ccc351",
   "metadata": {},
   "outputs": [
    {
     "name": "stdout",
     "output_type": "stream",
     "text": [
      "2.073225516621743\n"
     ]
    }
   ],
   "source": [
    "print(4615/2226)"
   ]
  }
 ],
 "metadata": {
  "kernelspec": {
   "display_name": "Python [conda env:paper]",
   "language": "python",
   "name": "conda-env-paper-py"
  },
  "language_info": {
   "codemirror_mode": {
    "name": "ipython",
    "version": 3
   },
   "file_extension": ".py",
   "mimetype": "text/x-python",
   "name": "python",
   "nbconvert_exporter": "python",
   "pygments_lexer": "ipython3",
   "version": "3.9.16"
  }
 },
 "nbformat": 4,
 "nbformat_minor": 5
}
