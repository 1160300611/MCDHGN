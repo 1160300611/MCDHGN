{
 "cells": [
  {
   "cell_type": "code",
   "execution_count": 1,
   "id": "561ecf77",
   "metadata": {},
   "outputs": [],
   "source": [
    "import pandas as pd\n",
    "import numpy as np\n",
    "import torch\n",
    "import pickle"
   ]
  },
  {
   "cell_type": "markdown",
   "id": "5dddff5e",
   "metadata": {},
   "source": [
    "### Process the 48*N-dimensional matrix related to genes extracted from case samples :multiomics_features.tsv\n",
    "`'Path'` is the path of the. csv file where ppi relationships are stored\n",
    "\n",
    "`feature_Path` is the path of all the features extracted from patients"
   ]
  },
  {
   "cell_type": "code",
   "execution_count": 2,
   "id": "8493173f",
   "metadata": {},
   "outputs": [],
   "source": [
    "Path = '../data/ppi/CPDB_genename_edgelist_0.5.tsv'\n",
    "feature_Path = '../data/biological_features.csv'"
   ]
  },
  {
   "cell_type": "code",
   "execution_count": 3,
   "id": "4675085c",
   "metadata": {},
   "outputs": [],
   "source": [
    "cpdb_genename = pd.read_csv(Path,header=0,\n",
    "                           sep='\\t',\n",
    "                           encoding='utf8') \n",
    "extract_feature= pd.read_csv(feature_Path,header=0,\n",
    "                           sep='\\t',\n",
    "                           encoding='utf8') "
   ]
  },
  {
   "cell_type": "code",
   "execution_count": 4,
   "id": "df57fb47",
   "metadata": {},
   "outputs": [],
   "source": [
    "extract  = extract_feature.values.tolist()\n",
    "extract_names= [row[0] for row in extract]"
   ]
  },
  {
   "cell_type": "code",
   "execution_count": 5,
   "id": "a376d143",
   "metadata": {},
   "outputs": [],
   "source": [
    "lst = cpdb_genename.values\n",
    "lst = lst.tolist()"
   ]
  },
  {
   "cell_type": "code",
   "execution_count": 6,
   "id": "73d2f686",
   "metadata": {},
   "outputs": [
    {
     "name": "stdout",
     "output_type": "stream",
     "text": [
      "[['STIM1', 'TRPC1', 0.5971769999999998], ['ATP2B4', 'NOS1', 0.5208359999999999], ['ABCC9', 'KCNJ11', 0.990732], ['HADHB', 'HADHA', 0.99998], ['GTF2E1', 'GTF2E2', 0.97317]]\n"
     ]
    }
   ],
   "source": [
    "print(lst[0:5])"
   ]
  },
  {
   "cell_type": "code",
   "execution_count": 7,
   "id": "3d7a6a15",
   "metadata": {},
   "outputs": [],
   "source": [
    "origin_list =[]\n",
    "new_list = []\n",
    "have_neighbor = set()\n",
    "for row in lst:\n",
    "    g1 = row[0]\n",
    "    g2 = row[1]\n",
    "    if g1 in extract_names and g2 in extract_names:\n",
    "        origin_list.append((g1,g2))\n",
    "        new_list.append((g1,g2))\n",
    "        new_list.append((g2,g1))\n",
    "        have_neighbor.add(g1)\n",
    "        have_neighbor.add(g2)"
   ]
  },
  {
   "cell_type": "code",
   "execution_count": 8,
   "id": "4d7ae5a9",
   "metadata": {},
   "outputs": [
    {
     "name": "stdout",
     "output_type": "stream",
     "text": [
      "628064\n"
     ]
    }
   ],
   "source": [
    "print(len(new_list))"
   ]
  },
  {
   "cell_type": "code",
   "execution_count": 12,
   "id": "bac9f705",
   "metadata": {},
   "outputs": [],
   "source": [
    "gene_save_path = '../data/step1/'\n",
    "gene_feat = {}\n",
    "for row in extract_feature.itertuples():\n",
    "    #print(index)\n",
    "    str1 = row[1]\n",
    "    if (str1 in have_neighbor):\n",
    "        mylist = row[2:]\n",
    "        mytensor = torch.Tensor(mylist)\n",
    "        gene_feat[str1] = mytensor\n",
    "gene_name_ids = {}\n",
    "gene_names = list(gene_feat.keys())\n",
    "for i in range(len(gene_names)):\n",
    "    gene_name_ids[gene_names[i]]  = i\n",
    "with open(gene_save_path+'gene_toids.pkl','wb')as f:\n",
    "    pickle.dump(gene_name_ids,f)"
   ]
  },
  {
   "cell_type": "code",
   "execution_count": 13,
   "id": "9a3c6539",
   "metadata": {},
   "outputs": [
    {
     "name": "stdout",
     "output_type": "stream",
     "text": [
      "627420\n"
     ]
    }
   ],
   "source": [
    "b = list(set(new_list))\n",
    "print(len(b))\n",
    "edges = []\n",
    "for edge in b:\n",
    "    x = gene_name_ids[edge[0]]\n",
    "    y = gene_name_ids[edge[1]]\n",
    "    edges.append((x,y))"
   ]
  },
  {
   "cell_type": "code",
   "execution_count": 14,
   "id": "97d3fdc2",
   "metadata": {},
   "outputs": [],
   "source": [
    "origin_relations = []\n",
    "for edge in origin_list:\n",
    "    x = gene_name_ids[edge[0]]\n",
    "    y = gene_name_ids[edge[1]]\n",
    "    origin_relations.append((x,y))"
   ]
  },
  {
   "cell_type": "code",
   "execution_count": 15,
   "id": "939d0c4e",
   "metadata": {},
   "outputs": [],
   "source": [
    "with open(gene_save_path+'gene_relations_undirected.pkl','wb')as f:\n",
    "    pickle.dump(edges,f)\n",
    "with open(gene_save_path+'gene_relations_directed.pkl','wb')as f:\n",
    "    pickle.dump(origin_relations,f)"
   ]
  },
  {
   "cell_type": "markdown",
   "id": "f88dbff5",
   "metadata": {},
   "source": [
    "#### Let the protein interaction network be completely composed of gene nodes with known characteristics, and update the characteristic matrix of gene nodes at the same time。"
   ]
  },
  {
   "cell_type": "code",
   "execution_count": 17,
   "id": "a1c110ad",
   "metadata": {},
   "outputs": [],
   "source": [
    "with open(gene_save_path+'gene_feature_bio.pkl','wb')as f:\n",
    "    pickle.dump(gene_feat,f)"
   ]
  },
  {
   "cell_type": "markdown",
   "id": "b03c4512",
   "metadata": {},
   "source": [
    "#### generate homogeneous network for test "
   ]
  },
  {
   "cell_type": "code",
   "execution_count": 6,
   "id": "6134b986",
   "metadata": {},
   "outputs": [],
   "source": [
    "import dgl\n",
    "import pickle\n",
    "import torch"
   ]
  },
  {
   "cell_type": "code",
   "execution_count": 2,
   "id": "f07995d6",
   "metadata": {},
   "outputs": [],
   "source": [
    "gene_ids_file = '../data/step1/gene_toids.pkl'\n",
    "gene_feat_file = '../data/step1/gene_feature_bio.pkl'\n",
    "grapth1_file = '../data/step1/gene_relations_directed.pkl'\n",
    "grapth2_file = '../data/step1/gene_relations_undirected.pkl'\n",
    "with open(gene_ids_file,'rb')as f:\n",
    "    gene_ids = pickle.load(f)\n",
    "with open(gene_feat_file,'rb')as f:\n",
    "    gene_feat_new = pickle.load(f)\n",
    "with open(grapth1_file,'rb')as f:\n",
    "    directed_relations = pickle.load(f)\n",
    "with open(grapth2_file,'rb')as f:\n",
    "    undirected_relations = pickle.load(f)"
   ]
  },
  {
   "cell_type": "code",
   "execution_count": 4,
   "id": "a5783059",
   "metadata": {},
   "outputs": [],
   "source": [
    "g1,g2 = [e[0] for e in directed_relations],[e[1] for e in directed_relations] \n",
    "g_1,g_2 = [e[0] for e in undirected_relations],[e[1] for e in undirected_relations] "
   ]
  },
  {
   "cell_type": "code",
   "execution_count": 7,
   "id": "1937457c",
   "metadata": {},
   "outputs": [],
   "source": [
    "tensors1 = [t for t in gene_feat_new.values()]\n",
    "gene_feat_tensor = torch.stack(tensors1)"
   ]
  },
  {
   "cell_type": "code",
   "execution_count": 12,
   "id": "ea10b60e",
   "metadata": {},
   "outputs": [
    {
     "name": "stdout",
     "output_type": "stream",
     "text": [
      "tensor([[0.0000, 0.0053, 0.0000,  ..., 0.0304, 0.0910, 0.0173],\n",
      "        [0.0000, 0.0053, 0.0000,  ..., 0.0662, 0.3309, 0.0425],\n",
      "        [0.0633, 0.0158, 0.0557,  ..., 0.2257, 0.3389, 0.5127],\n",
      "        ...,\n",
      "        [0.0000, 0.0106, 0.0000,  ..., 0.0502, 0.0153, 0.0433],\n",
      "        [0.0000, 0.0159, 0.0000,  ..., 0.1889, 0.2675, 0.0800],\n",
      "        [0.0628, 0.0619, 0.1089,  ..., 0.0416, 0.3418, 0.2629]])\n"
     ]
    }
   ],
   "source": [
    "print(gene_feat_tensor)"
   ]
  },
  {
   "cell_type": "code",
   "execution_count": 8,
   "id": "279b99f2",
   "metadata": {},
   "outputs": [],
   "source": [
    "mygraph1 = dgl.heterograph({\n",
    "            ('Gene','gg','Gene'):(g1,g2)\n",
    "        })\n",
    "mygraph1.nodes['Gene'].data['feature'] = gene_feat_tensor"
   ]
  },
  {
   "cell_type": "code",
   "execution_count": 29,
   "id": "d3ce33dc",
   "metadata": {},
   "outputs": [
    {
     "name": "stdout",
     "output_type": "stream",
     "text": [
      "{'feature': tensor([[0.0000, 0.0053, 0.0000,  ..., 0.0304, 0.0910, 0.0173],\n",
      "        [0.0000, 0.0053, 0.0000,  ..., 0.0662, 0.3309, 0.0425],\n",
      "        [0.0633, 0.0158, 0.0557,  ..., 0.2257, 0.3389, 0.5127],\n",
      "        ...,\n",
      "        [0.0000, 0.0106, 0.0000,  ..., 0.0502, 0.0153, 0.0433],\n",
      "        [0.0000, 0.0159, 0.0000,  ..., 0.1889, 0.2675, 0.0800],\n",
      "        [0.0628, 0.0619, 0.1089,  ..., 0.0416, 0.3418, 0.2629]])}\n"
     ]
    }
   ],
   "source": []
  },
  {
   "cell_type": "code",
   "execution_count": 23,
   "id": "b99b5f07",
   "metadata": {
    "scrolled": true
   },
   "outputs": [
    {
     "name": "stdout",
     "output_type": "stream",
     "text": [
      "{'feature': tensor([[0.0000, 0.0053, 0.0000,  ..., 0.0304, 0.0910, 0.0173],\n",
      "        [0.0000, 0.0053, 0.0000,  ..., 0.0662, 0.3309, 0.0425],\n",
      "        [0.0633, 0.0158, 0.0557,  ..., 0.2257, 0.3389, 0.5127],\n",
      "        ...,\n",
      "        [0.0000, 0.0106, 0.0000,  ..., 0.0502, 0.0153, 0.0433],\n",
      "        [0.0000, 0.0159, 0.0000,  ..., 0.1889, 0.2675, 0.0800],\n",
      "        [0.0628, 0.0619, 0.1089,  ..., 0.0416, 0.3418, 0.2629]])}\n",
      "NodeSpace(data={'feature': tensor([[0.0000, 0.0053, 0.0000,  ..., 0.0304, 0.0910, 0.0173],\n",
      "        [0.0000, 0.0053, 0.0000,  ..., 0.0662, 0.3309, 0.0425],\n",
      "        [0.0633, 0.0158, 0.0557,  ..., 0.2257, 0.3389, 0.5127],\n",
      "        ...,\n",
      "        [0.0000, 0.0106, 0.0000,  ..., 0.0502, 0.0153, 0.0433],\n",
      "        [0.0000, 0.0159, 0.0000,  ..., 0.1889, 0.2675, 0.0800],\n",
      "        [0.0628, 0.0619, 0.1089,  ..., 0.0416, 0.3418, 0.2629]])})\n"
     ]
    }
   ],
   "source": [
    "print(mygraph1.ndata)\n",
    "print(mygraph1.nodes['Gene'])"
   ]
  },
  {
   "cell_type": "code",
   "execution_count": 33,
   "id": "38893cca",
   "metadata": {},
   "outputs": [],
   "source": [
    "save_path1 = '../data/network/homo/directed_graph_newfeat.bin'\n",
    "dgl.save_graphs(save_path1, [mygraph1])"
   ]
  },
  {
   "cell_type": "code",
   "execution_count": 34,
   "id": "20f702ad",
   "metadata": {},
   "outputs": [],
   "source": [
    "mygraph2 = dgl.heterograph({\n",
    "            ('Gene','gg','Gene'):(g_1,g_2)\n",
    "        })\n",
    "mygraph2.nodes['Gene'].data['feature'] = gene_feat_tensor"
   ]
  },
  {
   "cell_type": "code",
   "execution_count": 35,
   "id": "980364ba",
   "metadata": {},
   "outputs": [],
   "source": [
    "save_path2 = '../data/network/homo/undirected_graph_newfeat.bin'\n",
    "dgl.save_graphs(save_path2, [mygraph2])"
   ]
  }
 ],
 "metadata": {
  "kernelspec": {
   "display_name": "Python [conda env:paper]",
   "language": "python",
   "name": "conda-env-paper-py"
  },
  "language_info": {
   "codemirror_mode": {
    "name": "ipython",
    "version": 3
   },
   "file_extension": ".py",
   "mimetype": "text/x-python",
   "name": "python",
   "nbconvert_exporter": "python",
   "pygments_lexer": "ipython3",
   "version": "3.9.16"
  }
 },
 "nbformat": 4,
 "nbformat_minor": 5
}
