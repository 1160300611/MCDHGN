{
 "cells": [
  {
   "cell_type": "code",
   "execution_count": 2,
   "id": "6816c2c4",
   "metadata": {},
   "outputs": [],
   "source": [
    "import pickle\n",
    "import numpy as np\n",
    "import torch \n",
    "import dgl\n",
    "import csv"
   ]
  },
  {
   "cell_type": "code",
   "execution_count": 3,
   "id": "4c026932",
   "metadata": {},
   "outputs": [],
   "source": [
    "gene_path = '../data/step1/'\n",
    "Msig_path = '../data/msigdb/Msig_gene/cpdb/'\n",
    "ids_toname_path = '../data/network/hetero/ids_to_name/'\n",
    "name_toids_path = '../data/network/hetero/name_to_ids/'"
   ]
  },
  {
   "cell_type": "markdown",
   "id": "6efca6c6",
   "metadata": {},
   "source": [
    "### Convert the original correspondence to the ID to facilitate the construction of the heterogeneous network\n",
    "### node types in the list:\n",
    "*[‘Gene','Pos','Pathway','M','CM','GO','HPO','F','Cell']*"
   ]
  },
  {
   "cell_type": "code",
   "execution_count": 4,
   "id": "05d63801",
   "metadata": {},
   "outputs": [
    {
     "name": "stdout",
     "output_type": "stream",
     "text": [
      "the 1.th Msig Nodes'num:  293\n",
      "the 2.th Msig Nodes'num:  3089\n",
      "the 3.th Msig Nodes'num:  3708\n",
      "the 4.th Msig Nodes'num:  858\n",
      "the 5.th Msig Nodes'num:  10525\n",
      "the 6.th Msig Nodes'num:  5404\n",
      "the 7.th Msig Nodes'num:  189\n",
      "the 8.th Msig Nodes'num:  829\n"
     ]
    }
   ],
   "source": [
    "all_name_dict = []\n",
    "with open(gene_path+'gene_toids.pkl','rb')as f:\n",
    "    gene_ids = pickle.load(f) \n",
    "all_name_dict.append(gene_ids)\n",
    "\n",
    "for j in range(1,9):\n",
    "    i = 0\n",
    "    with open(Msig_path+\"c{}_gene_cpdb.pkl\".format(j),'rb')as f:\n",
    "        tmp_c_gene = pickle.load(f)\n",
    "        tmp_list = list(tmp_c_gene.keys())\n",
    "        tmp_dict = {}\n",
    "        for key in tmp_list:\n",
    "            tmp_dict[key] = i\n",
    "            i+=1\n",
    "        print('the {}.th Msig Nodes\\'num:  {}'.format(j,len(tmp_dict)))\n",
    "    all_name_dict.append(tmp_dict)"
   ]
  },
  {
   "cell_type": "code",
   "execution_count": 6,
   "id": "425935b6",
   "metadata": {},
   "outputs": [],
   "source": [
    "nodetype = ['Gene','Pos','Pathway','M','CM','GO','HPO','F','Cell']\n",
    "for i in range(9):\n",
    "    tmp_dict = all_name_dict[i]\n",
    "    with open(name_toids_path+nodetype[i]+'.pkl','wb')as f:\n",
    "        pickle.dump(tmp_dict,f)"
   ]
  },
  {
   "cell_type": "markdown",
   "id": "6c82e950",
   "metadata": {},
   "source": [
    "### generate heterograph's correspondence between the ID of various nodes and names, which is convenient for subsequent analysis\n"
   ]
  },
  {
   "cell_type": "code",
   "execution_count": 19,
   "id": "296041b4",
   "metadata": {},
   "outputs": [
    {
     "name": "stdout",
     "output_type": "stream",
     "text": [
      "the 1.th Msig Nodes'num:  293\n",
      "the 2.th Msig Nodes'num:  3089\n",
      "the 3.th Msig Nodes'num:  3708\n",
      "the 4.th Msig Nodes'num:  858\n",
      "the 5.th Msig Nodes'num:  10525\n",
      "the 6.th Msig Nodes'num:  5404\n",
      "the 7.th Msig Nodes'num:  189\n",
      "the 8.th Msig Nodes'num:  829\n"
     ]
    }
   ],
   "source": [
    "all_id_name = []\n",
    "for j in range(1,9):\n",
    "    i = 0\n",
    "    with open(Msig_path+\"c{}_gene_cpdb.pkl\".format(j),'rb')as f:\n",
    "        tmp_c_gene = pickle.load(f)\n",
    "        tmp_list = list(tmp_c_gene.keys())\n",
    "        tmp_dict = {}\n",
    "        for key in tmp_list:\n",
    "            tmp_dict[i] = key\n",
    "            i+=1\n",
    "        print('the {}.th Msig Nodes\\'num:  {}'.format(j,len(tmp_dict)))\n",
    "    all_id_name.append(tmp_dict)   \n",
    "nodetype = ['Pos','Pathway','M','CM','GO','HPO','F','Cell']\n",
    "for i in range(8):\n",
    "    with open(ids_toname_path+nodetype[i]+'.pkl','wb')as f:\n",
    "        pickle.dump(all_id_name[i],f)"
   ]
  },
  {
   "cell_type": "markdown",
   "id": "cf91e3d0",
   "metadata": {},
   "source": [
    "### generate all the edges between different node types "
   ]
  },
  {
   "cell_type": "code",
   "execution_count": 7,
   "id": "ba3c93b3",
   "metadata": {},
   "outputs": [
    {
     "name": "stdout",
     "output_type": "stream",
     "text": [
      "the 1.th Msig nodes have 12910 edges with gene nodes\n",
      "the 2.th Msig nodes have 134089 edges with gene nodes\n",
      "the 3.th Msig nodes have 596322 edges with gene nodes\n",
      "the 4.th Msig nodes have 78744 edges with gene nodes\n",
      "the 5.th Msig nodes have 701315 edges with gene nodes\n",
      "the 6.th Msig nodes have 385629 edges with gene nodes\n",
      "the 7.th Msig nodes have 24034 edges with gene nodes\n",
      "the 8.th Msig nodes have 112393 edges with gene nodes\n"
     ]
    }
   ],
   "source": [
    "edges = []\n",
    "for i in range(1,9):\n",
    "    tmpedges = []\n",
    "    with open(Msig_path+\"c{}_gene_cpdb.pkl\".format(i),'rb')as f:\n",
    "        tmp_c_gene = pickle.load(f)\n",
    "        for key,value in tmp_c_gene.items():\n",
    "            x = all_name_dict[i][key]\n",
    "            for ty in value:\n",
    "                y = all_name_dict[0][ty]\n",
    "                tmpedges.append((x,y))\n",
    "    print('the {}.th Msig nodes have {} edges with gene nodes'.format(i,len(tmpedges)))\n",
    "    edges.append(tmpedges)"
   ]
  },
  {
   "cell_type": "markdown",
   "id": "095fb869",
   "metadata": {},
   "source": [
    "### Generate a heterogeneous graph with *9* different nodes and *16* different edges"
   ]
  },
  {
   "cell_type": "code",
   "execution_count": 8,
   "id": "19e06f6f",
   "metadata": {},
   "outputs": [],
   "source": [
    "edge_name_list = ['G_Pos','Pos_G','G_pathway','Pathway_G','G_M','M_G','G_CM','CM_G','G_GO',\n",
    "                  'GO_G','G_HPO','HPO_G','G_F','F_G','G_Cell','Cell_G']\n",
    "node_name_list = ['Pos','Pathway','Microrna','CM','GO','HPO','F','Cell']"
   ]
  },
  {
   "cell_type": "code",
   "execution_count": 9,
   "id": "89ceb311",
   "metadata": {},
   "outputs": [],
   "source": [
    "Pos_G,G_Pos = [e[0] for e in edges[0]],[e[1] for e in edges[0]] \n",
    "Pathway_G,G_Pathway = [e[0] for e in edges[1]],[e[1] for e in edges[1]]\n",
    "M_G,G_M = [e[0] for e in edges[2]],[e[1] for e in edges[2]]\n",
    "CM_G,G_CM = [e[0] for e in edges[3]],[e[1] for e in edges[3]] \n",
    "GO_G,G_GO = [e[0] for e in edges[4]],[e[1] for e in edges[4]]     \n",
    "HPO_G,G_HPO = [e[0] for e in edges[5]],[e[1] for e in edges[5]]\n",
    "F_G,G_F = [e[0] for e in edges[6]],[e[1] for e in edges[6]]\n",
    "Cell_G,G_Cell =[e[0] for e in edges[7]],[e[1] for e in edges[7]] "
   ]
  },
  {
   "cell_type": "markdown",
   "id": "674ac60c",
   "metadata": {},
   "source": [
    "### The graph generated by our research itself contains the isomorphic part of the gene-gene, which is obtained according to the correlation provided by the ppi network"
   ]
  },
  {
   "cell_type": "code",
   "execution_count": 10,
   "id": "5debd79c",
   "metadata": {},
   "outputs": [],
   "source": [
    "with open('../data/step1/gene_relations_undirected.pkl','rb')as f:\n",
    "    gene_edges = pickle.load(f)\n",
    "\n",
    "g1,g2 = [e[0] for e in gene_edges],[e[1] for e in gene_edges]"
   ]
  },
  {
   "cell_type": "code",
   "execution_count": 11,
   "id": "87af7dbe",
   "metadata": {},
   "outputs": [],
   "source": [
    "g = dgl.heterograph({\n",
    "            ('a_Pos', 'ag', 'Gene'): (Pos_G, G_Pos),\n",
    "            ('Gene', 'ga', 'a_Pos'): (G_Pos, Pos_G),\n",
    "            ('b_Pathway', 'bg', 'Gene'): (Pathway_G,G_Pathway,),\n",
    "            ('Gene', 'gb', 'b_Pathway'): (G_Pathway, Pathway_G),\n",
    "            ('c_Microrna','cg','Gene'): (M_G,G_M),\n",
    "            ('Gene','gc',\"c_Microrna\"): (G_M,M_G),\n",
    "            ('e_GO','eg','Gene'): (GO_G,G_GO),\n",
    "            ('Gene','ge','e_GO'): (G_GO,GO_G),\n",
    "            ('d_CM','dg','Gene'): (CM_G,G_CM),\n",
    "            ('Gene','gd','d_CM'): (G_CM,CM_G),\n",
    "            ('f_HPO','fg','Gene'): (HPO_G,G_HPO),\n",
    "            ('Gene','gf','f_HPO'): (G_HPO,HPO_G),\n",
    "            ('h_F','hg','Gene'): (F_G,G_F),\n",
    "            ('Gene','gh','h_F'): (G_F,F_G),\n",
    "            ('i_Cell','ig','Gene'): (Cell_G,G_Cell),\n",
    "            ('Gene','gi','i_Cell'): (G_Cell,Cell_G),\n",
    "            ('Gene','gg','Gene'): (g1,g2)\n",
    "        })"
   ]
  },
  {
   "cell_type": "markdown",
   "id": "980e23ed",
   "metadata": {},
   "source": [
    "### My Heterogeneous Graph "
   ]
  },
  {
   "cell_type": "markdown",
   "id": "9683cbfe",
   "metadata": {},
   "source": [
    "feat = torch.randn(len(gene_ids), 48)\n",
    "feat_norm = torch.norm(feat, p=2, dim=1, keepdim=True)\n",
    "feat_normalized = feat / feat_norm\n",
    "g.nodes['Gene'].data['feature'] = feat_normalized\n",
    "save_path = '../ablation_experiment/randomfeat_9nodes_graph.bin'\n",
    "dgl.save_graphs(save_path, [g])"
   ]
  },
  {
   "cell_type": "code",
   "execution_count": 18,
   "id": "45185205",
   "metadata": {},
   "outputs": [],
   "source": [
    "with open('../data/step1/gene_feature_bio.pkl','rb')as f:\n",
    "    gene_feat = pickle.load(f)\n",
    "tensors1 = [t for t in gene_feat.values()]\n",
    "gene_feat_tensor = torch.stack(tensors1)\n",
    "g.nodes['Gene'].data['feature'] = gene_feat_tensor\n",
    "save_path = '../data/network/hetero/new_9nodes_graph.bin'\n",
    "dgl.save_graphs(save_path, [g])"
   ]
  },
  {
   "cell_type": "code",
   "execution_count": 13,
   "id": "0299c59c",
   "metadata": {},
   "outputs": [
    {
     "name": "stdout",
     "output_type": "stream",
     "text": [
      "['Gene', 'a_Pos', 'b_Pathway', 'c_Microrna', 'd_CM', 'e_GO', 'f_HPO', 'h_F', 'i_Cell']\n"
     ]
    }
   ],
   "source": [
    "print(g.ntypes)"
   ]
  },
  {
   "cell_type": "markdown",
   "id": "f6115952",
   "metadata": {},
   "source": [
    "### The following are generate steps for MAGNN"
   ]
  },
  {
   "cell_type": "code",
   "execution_count": 20,
   "id": "ba1473a7",
   "metadata": {},
   "outputs": [],
   "source": [
    "feature_list = []\n",
    "\n",
    "feature_list.append(gene_feat_tensor)\n",
    "for j in range(1,9):\n",
    "    t_featurs = []\n",
    "    with open(Msig_path+\"c{}_feature.pkl\".format(j),'rb')as f:\n",
    "        t_feature_dict = pickle.load(f)\n",
    "        t_name_toids_idct = all_id_name[j-1]\n",
    "        \n",
    "        for key,value in t_name_toids_idct.items():\n",
    "            t_featurs.append(t_feature_dict[value])\n",
    "           \n",
    "    feature_list.append(torch.stack(t_featurs))"
   ]
  },
  {
   "cell_type": "code",
   "execution_count": 28,
   "id": "879b21aa",
   "metadata": {},
   "outputs": [],
   "source": [
    "magnn_graph = dgl.heterograph({\n",
    "            ('a_Pos', 'ag', 'Gene'): (Pos_G, G_Pos),\n",
    "            ('Gene', 'ga', 'a_Pos'): (G_Pos, Pos_G),\n",
    "            ('b_Pathway', 'bg', 'Gene'): (Pathway_G,G_Pathway,),\n",
    "            ('Gene', 'gb', 'b_Pathway'): (G_Pathway, Pathway_G),\n",
    "            ('c_Microrna','cg','Gene'): (M_G,G_M),\n",
    "            ('Gene','gc',\"c_Microrna\"): (G_M,M_G),\n",
    "            ('e_GO','eg','Gene'): (GO_G,G_GO),\n",
    "            ('Gene','ge','e_GO'): (G_GO,GO_G),\n",
    "            ('d_CM','dg','Gene'): (CM_G,G_CM),\n",
    "            ('Gene','gd','d_CM'): (G_CM,CM_G),\n",
    "            ('f_HPO','fg','Gene'): (HPO_G,G_HPO),\n",
    "            ('Gene','gf','f_HPO'): (G_HPO,HPO_G),\n",
    "            ('h_F','hg','Gene'): (F_G,G_F),\n",
    "            ('Gene','gh','h_F'): (G_F,F_G),\n",
    "            ('i_Cell','ig','Gene'): (Cell_G,G_Cell),\n",
    "            ('Gene','gi','i_Cell'): (G_Cell,Cell_G),\n",
    "            ('Gene','gg','Gene'): (g1,g2)\n",
    "        })"
   ]
  },
  {
   "cell_type": "code",
   "execution_count": 29,
   "id": "541ad0b0",
   "metadata": {},
   "outputs": [],
   "source": [
    "\n",
    "magnn_graph.nodes['Gene'].data['feature'] = feature_list[0]\n",
    "magnn_graph.nodes['a_Pos'].data['feature'] = feature_list[1]\n",
    "magnn_graph.nodes['b_Pathway'].data['feature'] = feature_list[2]\n",
    "magnn_graph.nodes['c_Microrna'].data['feature'] = feature_list[3]\n",
    "magnn_graph.nodes['d_CM'].data['feature'] = feature_list[4]\n",
    "magnn_graph.nodes['e_GO'].data['feature'] = feature_list[5]\n",
    "magnn_graph.nodes['f_HPO'].data['feature'] = feature_list[6]\n",
    "magnn_graph.nodes['h_F'].data['feature'] = feature_list[7]\n",
    "magnn_graph.nodes['i_Cell'].data['feature'] = feature_list[8]\n",
    "save_path = '../../data/Network/Hetero/magnn_9nodes_graph.bin'\n",
    "dgl.save_graphs(save_path, [magnn_graph])"
   ]
  }
 ],
 "metadata": {
  "kernelspec": {
   "display_name": "paper",
   "language": "python",
   "name": "python3"
  },
  "language_info": {
   "codemirror_mode": {
    "name": "ipython",
    "version": 3
   },
   "file_extension": ".py",
   "mimetype": "text/x-python",
   "name": "python",
   "nbconvert_exporter": "python",
   "pygments_lexer": "ipython3",
   "version": "3.9.16"
  }
 },
 "nbformat": 4,
 "nbformat_minor": 5
}
